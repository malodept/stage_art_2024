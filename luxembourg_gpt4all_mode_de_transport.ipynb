{
 "cells": [
  {
   "cell_type": "code",
   "execution_count": 1,
   "metadata": {},
   "outputs": [],
   "source": [
    "\n",
    "from gpt4all import GPT4All\n",
    "import pandas as pd\n",
    "\n",
    "model = GPT4All(model_name=\"Meta-Llama-3-8B-Instruct.Q4_0.gguf\", model_path=\"P:/gpt4all/\")\n",
    "\n",
    "chemin_luxembourg = 'C:/Users/m-de-pastor/Desktop/Un peut tout/luxembourg.xlsx'\n",
    "df_luxembourg = pd.read_excel(chemin_luxembourg)\n",
    "\n",
    "def predict_mode(row, session):\n",
    "    titre = row['Titre']\n",
    "    tags = row['Tags']\n",
    "    description = row['Description']\n",
    "    \n",
    "    prompt = f\"What is the most appropriate mode of transport between 'car', 'bus', 'train', 'plane', 'boat', 'cycle', and 'unknown' given the following information?\\n\\nTitle: {titre}\\nTags: {tags}\\nDescription: {description}\\n\\nPlease respond with a single word from the provided options.\\n\\nMode of transport:\"\n",
    "    \n",
    "    response = session.generate(prompt, max_tokens=1024)\n",
    "    \n",
    "    mode_of_transport = response.split('Mode of transport:')[-1].strip().lower()\n",
    "    \n",
    "    return mode_of_transport\n",
    "\n",
    "with model.chat_session() as session:\n",
    "    df_luxembourg['Mode de transport'] = df_luxembourg.apply(lambda row: predict_mode(row, session), axis=1)\n",
    "\n",
    "df_luxembourg.to_excel('C:/Users/m-de-pastor/Desktop/Un peut tout/luxembourg_transfo_3_gpt4all.xlsx', index=False)\n",
    "\n",
    "\n",
    "\n",
    "\n",
    "\n",
    "\n"
   ]
  }
 ],
 "metadata": {
  "kernelspec": {
   "display_name": "Python 3",
   "language": "python",
   "name": "python3"
  },
  "language_info": {
   "codemirror_mode": {
    "name": "ipython",
    "version": 3
   },
   "file_extension": ".py",
   "mimetype": "text/x-python",
   "name": "python",
   "nbconvert_exporter": "python",
   "pygments_lexer": "ipython3",
   "version": "3.12.0"
  }
 },
 "nbformat": 4,
 "nbformat_minor": 2
}
